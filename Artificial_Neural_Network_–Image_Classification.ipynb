{
  "nbformat": 4,
  "nbformat_minor": 0,
  "metadata": {
    "accelerator": "GPU",
    "colab": {
      "provenance": [],
      "include_colab_link": true
    },
    "kernelspec": {
      "display_name": "Python 3",
      "name": "python3"
    }
  },
  "cells": [
    {
      "cell_type": "markdown",
      "metadata": {
        "id": "view-in-github",
        "colab_type": "text"
      },
      "source": [
        "<a href=\"https://colab.research.google.com/github/mohnishsachdeva/ANN-image_classification/blob/main/Artificial_Neural_Network_%E2%80%93Image_Classification.ipynb\" target=\"_parent\"><img src=\"https://colab.research.google.com/assets/colab-badge.svg\" alt=\"Open In Colab\"/></a>"
      ]
    },
    {
      "cell_type": "code",
      "metadata": {
        "id": "Sdf9F1FNx7Co"
      },
      "source": [
        "# Data Preprocessing\n",
        "\n",
        "# Importing the libraries\n",
        "import numpy as np\n",
        "import matplotlib.pyplot as plt\n",
        "import pandas as pd\n",
        "from keras.datasets import mnist\n",
        "import keras"
      ],
      "execution_count": 1,
      "outputs": []
    },
    {
      "cell_type": "code",
      "metadata": {
        "colab": {
          "base_uri": "https://localhost:8080/"
        },
        "id": "W2z7IOpshXPy",
        "outputId": "a0d9a1ec-9be3-4b94-8478-4e5520e31251"
      },
      "source": [
        "#Mount Google drive to save model\n",
        "from google.colab import drive\n",
        "drive.mount('/content/drive')"
      ],
      "execution_count": 2,
      "outputs": [
        {
          "output_type": "stream",
          "name": "stdout",
          "text": [
            "Mounted at /content/drive\n"
          ]
        }
      ]
    },
    {
      "cell_type": "markdown",
      "metadata": {
        "id": "MLS7ORvrctJm"
      },
      "source": [
        "Loading the dataset\n",
        "Load the training and testing MNIST images into the variables X_train and X_test, with y_train and y_test used to hold the matching digits. Keep in mind that the shape of every image in the MNIST dataset is 28 x 28 pixels."
      ]
    },
    {
      "cell_type": "code",
      "metadata": {
        "id": "n8BsABQwJQcj",
        "colab": {
          "base_uri": "https://localhost:8080/"
        },
        "outputId": "8bd649cf-8108-487c-f56f-5b4e592e79e7"
      },
      "source": [
        "from keras.datasets import mnist\n",
        "\n",
        "(X_train, y_train), (X_test, y_test) = mnist.load_data()"
      ],
      "execution_count": 3,
      "outputs": [
        {
          "output_type": "stream",
          "name": "stdout",
          "text": [
            "Downloading data from https://storage.googleapis.com/tensorflow/tf-keras-datasets/mnist.npz\n",
            "11490434/11490434 [==============================] - 0s 0us/step\n"
          ]
        }
      ]
    },
    {
      "cell_type": "markdown",
      "metadata": {
        "id": "5Hbwj4wEc85w"
      },
      "source": [
        "Reshape the inputs (X_train and X_test) to a shape that can be an input for the ANN model. The Keras reshape function takes as arguments the number of images (60,000 for X_train and 10,000 for X_test), the shape of each image (28×28), and the number of color channels – 1 in this case because images are greyscale.\n",
        "\n",
        "Then, one-hot-encode the target variable, mapping a variable to each target label – in our case, ‘0’, ‘1’, ‘2’, etc. because we are recognizing digits."
      ]
    },
    {
      "cell_type": "code",
      "metadata": {
        "colab": {
          "base_uri": "https://localhost:8080/"
        },
        "id": "dP36P0hsMFw0",
        "outputId": "fde88703-139b-4c39-d465-c680043493e9"
      },
      "source": [
        "#from keras import utils as np_utils\n",
        "from keras.utils import np_utils\n",
        "batch_size = 128\n",
        "num_classes = 10\n",
        "epochs = 25\n",
        "X_train = X_train.reshape(60000, 784)\n",
        "X_test = X_test.reshape(10000, 784)\n",
        "X_train = X_train.astype('float32')\n",
        "X_test = X_test.astype('float32')\n",
        "\n",
        "# Normalize to 0 to 1 range\n",
        "X_train /= 255\n",
        "X_test /= 255\n",
        "\n",
        "print('Number of images in training Set: ', X_train.shape[0], )\n",
        "print('Number of images in training Set: ', X_test.shape[0], )\n",
        "# convert class vectors to binary class matrices\n",
        "y_train = np_utils.to_categorical(y_train, num_classes)\n",
        "y_test = np_utils.to_categorical(y_test, num_classes)\n",
        "\n",
        "\n",
        "print('Training set size:', X_train.shape)\n",
        "print('Testing set size:', X_test.shape)\n",
        "print('Training label size;',y_train.shape)\n",
        "print('testing  label size;',y_test.shape)\n"
      ],
      "execution_count": 4,
      "outputs": [
        {
          "output_type": "stream",
          "name": "stdout",
          "text": [
            "Number of images in training Set:  60000\n",
            "Number of images in training Set:  10000\n",
            "Training set size: (60000, 784)\n",
            "Testing set size: (10000, 784)\n",
            "Training label size; (60000, 10)\n",
            "testing  label size; (10000, 10)\n"
          ]
        }
      ]
    },
    {
      "cell_type": "code",
      "metadata": {
        "colab": {
          "base_uri": "https://localhost:8080/",
          "height": 430
        },
        "id": "JAXp0saBb6p1",
        "outputId": "4f7fea7f-0d6d-4c8f-e5db-fb23528d3c92"
      },
      "source": [
        "\n",
        "plt.imshow(X_test[4:5].reshape(28,28), cmap='gray')\n",
        "plt.show()"
      ],
      "execution_count": 5,
      "outputs": [
        {
          "output_type": "display_data",
          "data": {
            "text/plain": [
              "<Figure size 640x480 with 1 Axes>"
            ],
            "image/png": "[encoded data removed]"
          },
          "metadata": {}
        }
      ]
    },
    {
      "cell_type": "code",
      "metadata": {
        "colab": {
          "base_uri": "https://localhost:8080/"
        },
        "id": "MlUqwhEYj7lX",
        "outputId": "9605590d-0ab6-43ac-f289-630519256317"
      },
      "source": [
        "print(\"Label:\",y_test[4:5])"
      ],
      "execution_count": 6,
      "outputs": [
        {
          "output_type": "stream",
          "name": "stdout",
          "text": [
            "Label: [[0. 0. 0. 0. 1. 0. 0. 0. 0. 0.]]\n"
          ]
        }
      ]
    },
    {
      "cell_type": "code",
      "metadata": {
        "colab": {
          "base_uri": "https://localhost:8080/",
          "height": 430
        },
        "id": "NqeL5H67fwB8",
        "outputId": "1ae99b0a-de5b-40fb-9f68-dd109f7f9121"
      },
      "source": [
        "plt.imshow(X_test[3:4].reshape(28,28), cmap='gray')\n",
        "plt.show()"
      ],
      "execution_count": 7,
      "outputs": [
        {
          "output_type": "display_data",
          "data": {
            "text/plain": [
              "<Figure size 640x480 with 1 Axes>"
            ],
            "image/png": "[encoded data removed]"
          },
          "metadata": {}
        }
      ]
    },
    {
      "cell_type": "code",
      "metadata": {
        "colab": {
          "base_uri": "https://localhost:8080/"
        },
        "id": "nPCdMvs-f0r0",
        "outputId": "2b6cde32-4e21-4348-ceae-54de8533c8e5"
      },
      "source": [
        "print(\"Label:\",y_test[3:4])"
      ],
      "execution_count": 8,
      "outputs": [
        {
          "output_type": "stream",
          "name": "stdout",
          "text": [
            "Label: [[1. 0. 0. 0. 0. 0. 0. 0. 0. 0.]]\n"
          ]
        }
      ]
    },
    {
      "cell_type": "code",
      "metadata": {
        "colab": {
          "base_uri": "https://localhost:8080/"
        },
        "id": "DOHobiDMcyHW",
        "outputId": "922770f8-434b-4ce8-f1d5-1f0bab12af38"
      },
      "source": [
        "# NN Model structure\n",
        "from keras.models import Sequential\n",
        "from keras.layers import Dense\n",
        "from tensorflow.keras.optimizers import RMSprop\n",
        "first_layer_size = 32\n",
        "model = Sequential()\n",
        "model.add(Dense(first_layer_size, activation='sigmoid', input_shape=(784,)))\n",
        "model.add(Dense(32, activation='sigmoid'))\n",
        "model.add(Dense(32, activation='sigmoid'))\n",
        "model.add(Dense(num_classes, activation='softmax'))\n",
        "\n",
        "model.summary()"
      ],
      "execution_count": 9,
      "outputs": [
        {
          "output_type": "stream",
          "name": "stdout",
          "text": [
            "Model: \"sequential\"\n",
            "_________________________________________________________________\n",
            " Layer (type)                Output Shape              Param #   \n",
            "=================================================================\n",
            " dense (Dense)               (None, 32)                25120     \n",
            "                                                                 \n",
            " dense_1 (Dense)             (None, 32)                1056      \n",
            "                                                                 \n",
            " dense_2 (Dense)             (None, 32)                1056      \n",
            "                                                                 \n",
            " dense_3 (Dense)             (None, 10)                330       \n",
            "                                                                 \n",
            "=================================================================\n",
            "Total params: 27,562\n",
            "Trainable params: 27,562\n",
            "Non-trainable params: 0\n",
            "_________________________________________________________________\n"
          ]
        }
      ]
    },
    {
      "cell_type": "code",
      "metadata": {
        "colab": {
          "base_uri": "https://localhost:8080/",
          "height": 533
        },
        "id": "IlWhUPs9fgS4",
        "outputId": "857b74a2-4bcd-4a5b-834c-87f51ce02e85"
      },
      "source": [
        "from keras.utils.vis_utils import plot_model\n",
        "plot_model(model, to_file='model_plot_CNN.png', show_shapes=True, show_layer_names=True)"
      ],
      "execution_count": 10,
      "outputs": [
        {
          "output_type": "execute_result",
          "data": {
            "image/png": "[encoded data removed]",
            "text/plain": [
              "<IPython.core.display.Image object>"
            ]
          },
          "metadata": {},
          "execution_count": 10
        }
      ]
    },
    {
      "cell_type": "code",
      "metadata": {
        "id": "Soh3bmcRdNKt"
      },
      "source": [
        "#Model compilation\n",
        "model.compile(loss='categorical_crossentropy',\n",
        "              optimizer=RMSprop(),\n",
        "              metrics=[\"accuracy\"])"
      ],
      "execution_count": 13,
      "outputs": []
    },
    {
      "cell_type": "code",
      "metadata": {
        "colab": {
          "base_uri": "https://localhost:8080/"
        },
        "id": "lSHhZK8dd9-n",
        "outputId": "8d369fa4-1765-4d02-9dfe-228a58a90af9"
      },
      "source": [
        "# Write the Training input and output variables, size of the batch, number of epochs\n",
        "history = model.fit(X_train,y_train,\n",
        "                    batch_size=batch_size,\n",
        "                    epochs=epochs,\n",
        "                    verbose=2)"
      ],
      "execution_count": 14,
      "outputs": [
        {
          "output_type": "stream",
          "name": "stdout",
          "text": [
            "Epoch 1/25\n",
            "469/469 - 7s - loss: 1.6400 - accuracy: 0.4961 - 7s/epoch - 14ms/step\n",
            "Epoch 2/25\n",
            "469/469 - 1s - loss: 0.7177 - accuracy: 0.8138 - 1s/epoch - 3ms/step\n",
            "Epoch 3/25\n",
            "469/469 - 1s - loss: 0.4202 - accuracy: 0.8904 - 1s/epoch - 3ms/step\n",
            "Epoch 4/25\n",
            "469/469 - 1s - loss: 0.3117 - accuracy: 0.9146 - 1s/epoch - 3ms/step\n",
            "Epoch 5/25\n",
            "469/469 - 1s - loss: 0.2524 - accuracy: 0.9301 - 1s/epoch - 3ms/step\n",
            "Epoch 6/25\n",
            "469/469 - 1s - loss: 0.2155 - accuracy: 0.9398 - 1s/epoch - 3ms/step\n",
            "Epoch 7/25\n",
            "469/469 - 1s - loss: 0.1899 - accuracy: 0.9465 - 1s/epoch - 3ms/step\n",
            "Epoch 8/25\n",
            "469/469 - 2s - loss: 0.1715 - accuracy: 0.9516 - 2s/epoch - 4ms/step\n",
            "Epoch 9/25\n",
            "469/469 - 2s - loss: 0.1574 - accuracy: 0.9556 - 2s/epoch - 4ms/step\n",
            "Epoch 10/25\n",
            "469/469 - 1s - loss: 0.1461 - accuracy: 0.9586 - 1s/epoch - 3ms/step\n",
            "Epoch 11/25\n",
            "469/469 - 1s - loss: 0.1363 - accuracy: 0.9614 - 1s/epoch - 3ms/step\n",
            "Epoch 12/25\n",
            "469/469 - 1s - loss: 0.1285 - accuracy: 0.9636 - 1s/epoch - 3ms/step\n",
            "Epoch 13/25\n",
            "469/469 - 1s - loss: 0.1216 - accuracy: 0.9654 - 1s/epoch - 3ms/step\n",
            "Epoch 14/25\n",
            "469/469 - 1s - loss: 0.1152 - accuracy: 0.9675 - 1s/epoch - 3ms/step\n",
            "Epoch 15/25\n",
            "469/469 - 1s - loss: 0.1096 - accuracy: 0.9688 - 1s/epoch - 3ms/step\n",
            "Epoch 16/25\n",
            "469/469 - 1s - loss: 0.1044 - accuracy: 0.9703 - 1s/epoch - 3ms/step\n",
            "Epoch 17/25\n",
            "469/469 - 1s - loss: 0.0998 - accuracy: 0.9713 - 1s/epoch - 3ms/step\n",
            "Epoch 18/25\n",
            "469/469 - 2s - loss: 0.0956 - accuracy: 0.9731 - 2s/epoch - 4ms/step\n",
            "Epoch 19/25\n",
            "469/469 - 2s - loss: 0.0916 - accuracy: 0.9739 - 2s/epoch - 4ms/step\n",
            "Epoch 20/25\n",
            "469/469 - 1s - loss: 0.0879 - accuracy: 0.9753 - 1s/epoch - 3ms/step\n",
            "Epoch 21/25\n",
            "469/469 - 1s - loss: 0.0845 - accuracy: 0.9758 - 1s/epoch - 3ms/step\n",
            "Epoch 22/25\n",
            "469/469 - 1s - loss: 0.0814 - accuracy: 0.9764 - 1s/epoch - 3ms/step\n",
            "Epoch 23/25\n",
            "469/469 - 1s - loss: 0.0790 - accuracy: 0.9779 - 1s/epoch - 3ms/step\n",
            "Epoch 24/25\n",
            "469/469 - 1s - loss: 0.0763 - accuracy: 0.9783 - 1s/epoch - 3ms/step\n",
            "Epoch 25/25\n",
            "469/469 - 1s - loss: 0.0737 - accuracy: 0.9796 - 1s/epoch - 3ms/step\n"
          ]
        }
      ]
    },
    {
      "cell_type": "code",
      "metadata": {
        "colab": {
          "base_uri": "https://localhost:8080/"
        },
        "id": "NNhmjGj4gHux",
        "outputId": "2b4df48e-e711-489d-d362-8a07ead32f54"
      },
      "source": [
        "# save model and architecture to single file\n",
        "model.save('/content/drive/My Drive/FDP/MNISTANN.h5')\n",
        "model.summary()\n",
        "\n",
        "print(\"Saved model to disk\")"
      ],
      "execution_count": 15,
      "outputs": [
        {
          "output_type": "stream",
          "name": "stdout",
          "text": [
            "Model: \"sequential\"\n",
            "_________________________________________________________________\n",
            " Layer (type)                Output Shape              Param #   \n",
            "=================================================================\n",
            " dense (Dense)               (None, 32)                25120     \n",
            "                                                                 \n",
            " dense_1 (Dense)             (None, 32)                1056      \n",
            "                                                                 \n",
            " dense_2 (Dense)             (None, 32)                1056      \n",
            "                                                                 \n",
            " dense_3 (Dense)             (None, 10)                330       \n",
            "                                                                 \n",
            "=================================================================\n",
            "Total params: 27,562\n",
            "Trainable params: 27,562\n",
            "Non-trainable params: 0\n",
            "_________________________________________________________________\n",
            "Saved model to disk\n"
          ]
        }
      ]
    },
    {
      "cell_type": "code",
      "metadata": {
        "colab": {
          "base_uri": "https://localhost:8080/"
        },
        "id": "fzrzxdJggbYv",
        "outputId": "4627d17f-7b03-403f-a47e-91557619f852"
      },
      "source": [
        "# Loading saved model from Drive.\n",
        "from keras.models import load_model\n",
        "model = load_model('/content/drive/My Drive/FDP/MNISTANN.h5')\n",
        "print(\"Model is Loaded\")\n",
        "model.summary()"
      ],
      "execution_count": 16,
      "outputs": [
        {
          "output_type": "stream",
          "name": "stdout",
          "text": [
            "Model is Loaded\n",
            "Model: \"sequential\"\n",
            "_________________________________________________________________\n",
            " Layer (type)                Output Shape              Param #   \n",
            "=================================================================\n",
            " dense (Dense)               (None, 32)                25120     \n",
            "                                                                 \n",
            " dense_1 (Dense)             (None, 32)                1056      \n",
            "                                                                 \n",
            " dense_2 (Dense)             (None, 32)                1056      \n",
            "                                                                 \n",
            " dense_3 (Dense)             (None, 10)                330       \n",
            "                                                                 \n",
            "=================================================================\n",
            "Total params: 27,562\n",
            "Trainable params: 27,562\n",
            "Non-trainable params: 0\n",
            "_________________________________________________________________\n"
          ]
        }
      ]
    },
    {
      "cell_type": "code",
      "metadata": {
        "colab": {
          "base_uri": "https://localhost:8080/",
          "height": 944
        },
        "id": "Nmx54l0NkXEx",
        "outputId": "ceb17701-91c4-4104-eb2e-d8d4ffa91a4c"
      },
      "source": [
        "import matplotlib.pyplot as plt\n",
        "# list all data in history\n",
        "print(history.history.keys())\n",
        "# summarize history for accuracy\n",
        "plt.plot(history.history['accuracy'])\n",
        "plt.title('model accuracy')\n",
        "plt.ylabel('accuracy')\n",
        "plt.xlabel('epoch')\n",
        "plt.legend(['train', 'test'], loc='upper left')\n",
        "plt.show()\n",
        "# summarize history for loss\n",
        "plt.plot(history.history['loss'])\n",
        "plt.title('model loss')\n",
        "plt.ylabel('loss')\n",
        "plt.xlabel('epoch')\n",
        "plt.legend(['train', 'test'], loc='upper left')\n",
        "plt.show()"
      ],
      "execution_count": 17,
      "outputs": [
        {
          "output_type": "stream",
          "name": "stdout",
          "text": [
            "dict_keys(['loss', 'accuracy'])\n"
          ]
        },
        {
          "output_type": "display_data",
          "data": {
            "text/plain": [
              "<Figure size 640x480 with 1 Axes>"
            ],
            "image/png": "[encoded data removed]"
          },
          "metadata": {}
        },
        {
          "output_type": "display_data",
          "data": {
            "text/plain": [
              "<Figure size 640x480 with 1 Axes>"
            ],
            "image/png": "[encoded data removed]"
          },
          "metadata": {}
        }
      ]
    },
    {
      "cell_type": "code",
      "metadata": {
        "colab": {
          "base_uri": "https://localhost:8080/"
        },
        "id": "6xwxtx-AZm6U",
        "outputId": "fcd341fe-c699-4b97-8aff-458e58fd9280"
      },
      "source": [
        "print(\"[INFO] Calculating model accuracy\")\n",
        "scores = model.evaluate(X_test, y_test)\n",
        "print(f\"Test Accuracy: {scores[1]*100}\")"
      ],
      "execution_count": 18,
      "outputs": [
        {
          "output_type": "stream",
          "name": "stdout",
          "text": [
            "[INFO] Calculating model accuracy\n",
            "313/313 [==============================] - 1s 2ms/step - loss: 0.1274 - accuracy: 0.9639\n",
            "Test Accuracy: 96.39000296592712\n"
          ]
        }
      ]
    },
    {
      "cell_type": "code",
      "metadata": {
        "colab": {
          "base_uri": "https://localhost:8080/"
        },
        "id": "Au3RjIEsIpXd",
        "outputId": "6a6ebcdd-100a-4b2a-f301-81b86bd72c94"
      },
      "source": [
        "#Trainig accuracy\n",
        "y_pred=model.predict(X_train)\n",
        "\n",
        "y_pred=np.argmax(y_pred,axis=1)\n",
        "print(y_pred)\n",
        "print(y_pred.shape)"
      ],
      "execution_count": 19,
      "outputs": [
        {
          "output_type": "stream",
          "name": "stdout",
          "text": [
            "1875/1875 [==============================] - 3s 2ms/step\n",
            "[5 0 4 ... 5 6 8]\n",
            "(60000,)\n"
          ]
        }
      ]
    },
    {
      "cell_type": "code",
      "metadata": {
        "colab": {
          "base_uri": "https://localhost:8080/"
        },
        "id": "myzIN_XWL8ew",
        "outputId": "af769d2b-7146-4252-bb88-7c1e0094fa6f"
      },
      "source": [
        "# Original Training  label\n",
        "y_train_original=np.argmax(y_train,axis=1)\n",
        "print(y_train_original)"
      ],
      "execution_count": 20,
      "outputs": [
        {
          "output_type": "stream",
          "name": "stdout",
          "text": [
            "[5 0 4 ... 5 6 8]\n"
          ]
        }
      ]
    },
    {
      "cell_type": "code",
      "metadata": {
        "colab": {
          "base_uri": "https://localhost:8080/"
        },
        "id": "zGh0oOobFshh",
        "outputId": "48235b9d-a5ee-4ae3-eea1-214d66cf2c31"
      },
      "source": [
        "from sklearn.metrics import classification_report,confusion_matrix\n",
        "print(\"Classification report \\n=======================\")\n",
        "print(classification_report(y_train_original, y_pred))\n",
        "print(\"Confusion matrix \\n=======================\")\n",
        "print(confusion_matrix(y_train_original, y_pred))"
      ],
      "execution_count": 21,
      "outputs": [
        {
          "output_type": "stream",
          "name": "stdout",
          "text": [
            "Classification report \n",
            "=======================\n",
            "              precision    recall  f1-score   support\n",
            "\n",
            "           0       0.99      0.99      0.99      5923\n",
            "           1       0.99      0.99      0.99      6742\n",
            "           2       0.98      0.98      0.98      5958\n",
            "           3       0.99      0.97      0.98      6131\n",
            "           4       0.97      0.98      0.98      5842\n",
            "           5       0.98      0.97      0.98      5421\n",
            "           6       0.99      0.99      0.99      5918\n",
            "           7       0.98      0.99      0.98      6265\n",
            "           8       0.98      0.98      0.98      5851\n",
            "           9       0.98      0.97      0.97      5949\n",
            "\n",
            "    accuracy                           0.98     60000\n",
            "   macro avg       0.98      0.98      0.98     60000\n",
            "weighted avg       0.98      0.98      0.98     60000\n",
            "\n",
            "Confusion matrix \n",
            "=======================\n",
            "[[5856    0    4    0   11   11   15    2   12   12]\n",
            " [   1 6683   23    6    2    1    1    8    9    8]\n",
            " [  10   14 5868   14    9    3    6   15   16    3]\n",
            " [   2   10   42 5962    1   34    2   34   28   16]\n",
            " [   6   12    4    0 5747    5   18    4    5   41]\n",
            " [  10    7   10   40   17 5267   24    7   25   14]\n",
            " [   7    4    5    0   17    8 5869    0    8    0]\n",
            " [   1   18   17    3   14    4    0 6181    2   25]\n",
            " [   4   25   22   23    2   18   17    3 5712   25]\n",
            " [   9    4    0    3   77   14    0   46   17 5779]]\n"
          ]
        }
      ]
    },
    {
      "cell_type": "code",
      "metadata": {
        "colab": {
          "base_uri": "https://localhost:8080/"
        },
        "id": "6BkxHYrGQK01",
        "outputId": "5c84c06d-2928-4967-ac70-aea9461eb406"
      },
      "source": [
        "# testing accuracy\n",
        "y_pred=model.predict(X_test)\n",
        "\n",
        "y_pred=np.argmax(y_pred,axis=1)\n",
        "print(y_pred)\n",
        "print(y_pred.shape)"
      ],
      "execution_count": 22,
      "outputs": [
        {
          "output_type": "stream",
          "name": "stdout",
          "text": [
            "313/313 [==============================] - 1s 4ms/step\n",
            "[7 2 1 ... 4 5 6]\n",
            "(10000,)\n"
          ]
        }
      ]
    },
    {
      "cell_type": "code",
      "metadata": {
        "colab": {
          "base_uri": "https://localhost:8080/"
        },
        "id": "5CiU4QttQiqv",
        "outputId": "e61ee809-e748-46be-ea29-22b2ca69eef5"
      },
      "source": [
        "# Original testing Label\n",
        "y_test_original=np.argmax(y_test,axis=1)\n",
        "y_test_original"
      ],
      "execution_count": 23,
      "outputs": [
        {
          "output_type": "execute_result",
          "data": {
            "text/plain": [
              "array([7, 2, 1, ..., 4, 5, 6])"
            ]
          },
          "metadata": {},
          "execution_count": 23
        }
      ]
    },
    {
      "cell_type": "code",
      "metadata": {
        "colab": {
          "base_uri": "https://localhost:8080/"
        },
        "id": "Cb_10IqGQ0-o",
        "outputId": "199e3a7e-4b1b-49ac-f0ed-4909144dd393"
      },
      "source": [
        "from sklearn.metrics import classification_report,confusion_matrix\n",
        "print(\"Classification report \\n=======================\")\n",
        "print(classification_report(y_test_original, y_pred))\n",
        "print(\"Confusion matrix \\n=======================\")\n",
        "print(confusion_matrix(y_test_original, y_pred))"
      ],
      "execution_count": 24,
      "outputs": [
        {
          "output_type": "stream",
          "name": "stdout",
          "text": [
            "Classification report \n",
            "=======================\n",
            "              precision    recall  f1-score   support\n",
            "\n",
            "           0       0.98      0.98      0.98       980\n",
            "           1       0.97      0.99      0.98      1135\n",
            "           2       0.96      0.97      0.97      1032\n",
            "           3       0.96      0.97      0.96      1010\n",
            "           4       0.96      0.97      0.96       982\n",
            "           5       0.96      0.93      0.95       892\n",
            "           6       0.97      0.97      0.97       958\n",
            "           7       0.96      0.97      0.96      1028\n",
            "           8       0.96      0.95      0.96       974\n",
            "           9       0.96      0.94      0.95      1009\n",
            "\n",
            "    accuracy                           0.96     10000\n",
            "   macro avg       0.96      0.96      0.96     10000\n",
            "weighted avg       0.96      0.96      0.96     10000\n",
            "\n",
            "Confusion matrix \n",
            "=======================\n",
            "[[ 958    0    2    1    4    2    7    2    2    2]\n",
            " [   0 1120    7    1    0    1    2    1    3    0]\n",
            " [   3    2 1004    6    1    1    5    7    3    0]\n",
            " [   1    2    6  977    0    5    1   10    6    2]\n",
            " [   0    1    1    0  955    0    8    2    1   14]\n",
            " [   5    4    4   21    5  834    1    4    7    7]\n",
            " [   6    3    5    0    9    7  925    0    3    0]\n",
            " [   0    9   10    3    1    0    1  993    1   10]\n",
            " [   4    1    8    8    4    9    4    3  927    6]\n",
            " [   3    7    0    6   20    6    0   12    9  946]]\n"
          ]
        }
      ]
    },
    {
      "cell_type": "code",
      "metadata": {
        "colab": {
          "base_uri": "https://localhost:8080/",
          "height": 500
        },
        "id": "-Qd58x_ra588",
        "outputId": "f027142d-b81b-4ecf-e08d-7022f6b3b466"
      },
      "source": [
        "#Prediction of test set\n",
        "from sklearn.metrics import confusion_matrix \n",
        "import matplotlib.pyplot as plt\n",
        "import seaborn as sns\n",
        "\n",
        "conf_matrix = confusion_matrix(y_test_original,y_pred)\n",
        "sns.heatmap(conf_matrix,cmap=\"YlGnBu\",annot=True,fmt='g', xticklabels=['Figure 0','Figure 1','Figure 2','Figure 3','Figure 4','Figure 5','Figure 6','Figure 7','Figure 8','Figure 09'], \n",
        "            yticklabels=['Figure 0','Figure 1','Figure 2','Figure 3','Figure 4','Figure 5','Figure 6','Figure 7','Figure 8','Figure 09']); \n",
        "\n",
        "plt.xlabel('predicted value')\n",
        "plt.ylabel('true value');"
      ],
      "execution_count": 25,
      "outputs": [
        {
          "output_type": "display_data",
          "data": {
            "text/plain": [
              "<Figure size 640x480 with 2 Axes>"
            ],
            "image/png": "[encoded data removed]"
          },
          "metadata": {}
        }
      ]
    },
    {
      "cell_type": "code",
      "metadata": {
        "colab": {
          "base_uri": "https://localhost:8080/"
        },
        "id": "mQWMWBneyHme",
        "outputId": "9c060741-f89c-41fd-ad13-d83951287573"
      },
      "source": [
        "# Write the testing input and output variables\n",
        "score = model.evaluate(X_test, y_test, verbose=0)\n",
        "print('Test loss:', score[0])\n",
        "print('Test accuracy:', score[1])"
      ],
      "execution_count": 26,
      "outputs": [
        {
          "output_type": "stream",
          "name": "stdout",
          "text": [
            "Test loss: 0.1274312138557434\n",
            "Test accuracy: 0.9639000296592712\n"
          ]
        }
      ]
    },
    {
      "cell_type": "code",
      "metadata": {
        "colab": {
          "base_uri": "https://localhost:8080/",
          "height": 447
        },
        "id": "r-0oZJtImvdp",
        "outputId": "99af8c8c-ad01-4680-b250-46f1dcc3b909"
      },
      "source": [
        "print(\"Label:\",y_test[15:16])\n",
        "plt.imshow(X_test[15:16].reshape(28,28), cmap='gray')\n",
        "plt.show()"
      ],
      "execution_count": 27,
      "outputs": [
        {
          "output_type": "stream",
          "name": "stdout",
          "text": [
            "Label: [[0. 0. 0. 0. 0. 1. 0. 0. 0. 0.]]\n"
          ]
        },
        {
          "output_type": "display_data",
          "data": {
            "text/plain": [
              "<Figure size 640x480 with 1 Axes>"
            ],
            "image/png": "[encoded data removed]"
          },
          "metadata": {}
        }
      ]
    },
    {
      "cell_type": "code",
      "metadata": {
        "colab": {
          "base_uri": "https://localhost:8080/"
        },
        "id": "QM5XWWoEkBWH",
        "outputId": "0c4eb207-7a5b-44b7-bf6b-9e276c71bee6"
      },
      "source": [
        "# Write the index of the test sample to test\n",
        "prediction = model.predict(X_test[15:16])\n",
        "prediction = prediction[0]\n",
        "print('Prediction\\n',prediction)\n",
        "print('\\nThresholded output\\n',(prediction>0.5)*1)"
      ],
      "execution_count": 28,
      "outputs": [
        {
          "output_type": "stream",
          "name": "stdout",
          "text": [
            "1/1 [==============================] - 0s 27ms/step\n",
            "Prediction\n",
            " [4.65411404e-06 1.36289780e-03 1.65218862e-05 3.89239565e-02\n",
            " 6.99281873e-06 9.59254622e-01 2.61014384e-06 3.76485114e-05\n",
            " 3.79431236e-04 1.06714015e-05]\n",
            "\n",
            "Thresholded output\n",
            " [0 0 0 0 0 1 0 0 0 0]\n"
          ]
        }
      ]
    },
    {
      "cell_type": "code",
      "metadata": {
        "colab": {
          "base_uri": "https://localhost:8080/",
          "height": 73
        },
        "id": "Q8zAtsPknzM-",
        "outputId": "de2f2869-029d-453a-8746-e7c255ff36eb"
      },
      "source": [
        "from google.colab import files\n",
        "uploaded = files.upload()"
      ],
      "execution_count": 29,
      "outputs": [
        {
          "output_type": "display_data",
          "data": {
            "text/plain": [
              "<IPython.core.display.HTML object>"
            ],
            "text/html": [
              "\n",
              "     <input type=\"file\" id=\"files-5dda87e2-402e-4bf2-9344-5eb13c0c6169\" name=\"files[]\" multiple disabled\n",
              "        style=\"border:none\" />\n",
              "     <output id=\"result-5dda87e2-402e-4bf2-9344-5eb13c0c6169\">\n",
              "      Upload widget is only available when the cell has been executed in the\n",
              "      current browser session. Please rerun this cell to enable.\n",
              "      </output>\n",
              "      <script>// Copyright 2017 Google LLC\n",
              "//\n",
              "// Licensed under the Apache License, Version 2.0 (the \"License\");\n",
              "// you may not use this file except in compliance with the License.\n",
              "// You may obtain a copy of the License at\n",
              "//\n",
              "//      http://www.apache.org/licenses/LICENSE-2.0\n",
              "//\n",
              "// Unless required by applicable law or agreed to in writing, software\n",
              "// distributed under the License is distributed on an \"AS IS\" BASIS,\n",
              "// WITHOUT WARRANTIES OR CONDITIONS OF ANY KIND, either express or implied.\n",
              "// See the License for the specific language governing permissions and\n",
              "// limitations under the License.\n",
              "\n",
              "/**\n",
              " * @fileoverview Helpers for google.colab Python module.\n",
              " */\n",
              "(function(scope) {\n",
              "function span(text, styleAttributes = {}) {\n",
              "  const element = document.createElement('span');\n",
              "  element.textContent = text;\n",
              "  for (const key of Object.keys(styleAttributes)) {\n",
              "    element.style[key] = styleAttributes[key];\n",
              "  }\n",
              "  return element;\n",
              "}\n",
              "\n",
              "// Max number of bytes which will be uploaded at a time.\n",
              "const MAX_PAYLOAD_SIZE = 100 * 1024;\n",
              "\n",
              "function _uploadFiles(inputId, outputId) {\n",
              "  const steps = uploadFilesStep(inputId, outputId);\n",
              "  const outputElement = document.getElementById(outputId);\n",
              "  // Cache steps on the outputElement to make it available for the next call\n",
              "  // to uploadFilesContinue from Python.\n",
              "  outputElement.steps = steps;\n",
              "\n",
              "  return _uploadFilesContinue(outputId);\n",
              "}\n",
              "\n",
              "// This is roughly an async generator (not supported in the browser yet),\n",
              "// where there are multiple asynchronous steps and the Python side is going\n",
              "// to poll for completion of each step.\n",
              "// This uses a Promise to block the python side on completion of each step,\n",
              "// then passes the result of the previous step as the input to the next step.\n",
              "function _uploadFilesContinue(outputId) {\n",
              "  const outputElement = document.getElementById(outputId);\n",
              "  const steps = outputElement.steps;\n",
              "\n",
              "  const next = steps.next(outputElement.lastPromiseValue);\n",
              "  return Promise.resolve(next.value.promise).then((value) => {\n",
              "    // Cache the last promise value to make it available to the next\n",
              "    // step of the generator.\n",
              "    outputElement.lastPromiseValue = value;\n",
              "    return next.value.response;\n",
              "  });\n",
              "}\n",
              "\n",
              "/**\n",
              " * Generator function which is called between each async step of the upload\n",
              " * process.\n",
              " * @param {string} inputId Element ID of the input file picker element.\n",
              " * @param {string} outputId Element ID of the output display.\n",
              " * @return {!Iterable<!Object>} Iterable of next steps.\n",
              " */\n",
              "function* uploadFilesStep(inputId, outputId) {\n",
              "  const inputElement = document.getElementById(inputId);\n",
              "  inputElement.disabled = false;\n",
              "\n",
              "  const outputElement = document.getElementById(outputId);\n",
              "  outputElement.innerHTML = '';\n",
              "\n",
              "  const pickedPromise = new Promise((resolve) => {\n",
              "    inputElement.addEventListener('change', (e) => {\n",
              "      resolve(e.target.files);\n",
              "    });\n",
              "  });\n",
              "\n",
              "  const cancel = document.createElement('button');\n",
              "  inputElement.parentElement.appendChild(cancel);\n",
              "  cancel.textContent = 'Cancel upload';\n",
              "  const cancelPromise = new Promise((resolve) => {\n",
              "    cancel.onclick = () => {\n",
              "      resolve(null);\n",
              "    };\n",
              "  });\n",
              "\n",
              "  // Wait for the user to pick the files.\n",
              "  const files = yield {\n",
              "    promise: Promise.race([pickedPromise, cancelPromise]),\n",
              "    response: {\n",
              "      action: 'starting',\n",
              "    }\n",
              "  };\n",
              "\n",
              "  cancel.remove();\n",
              "\n",
              "  // Disable the input element since further picks are not allowed.\n",
              "  inputElement.disabled = true;\n",
              "\n",
              "  if (!files) {\n",
              "    return {\n",
              "      response: {\n",
              "        action: 'complete',\n",
              "      }\n",
              "    };\n",
              "  }\n",
              "\n",
              "  for (const file of files) {\n",
              "    const li = document.createElement('li');\n",
              "    li.append(span(file.name, {fontWeight: 'bold'}));\n",
              "    li.append(span(\n",
              "        `(${file.type || 'n/a'}) - ${file.size} bytes, ` +\n",
              "        `last modified: ${\n",
              "            file.lastModifiedDate ? file.lastModifiedDate.toLocaleDateString() :\n",
              "                                    'n/a'} - `));\n",
              "    const percent = span('0% done');\n",
              "    li.appendChild(percent);\n",
              "\n",
              "    outputElement.appendChild(li);\n",
              "\n",
              "    const fileDataPromise = new Promise((resolve) => {\n",
              "      const reader = new FileReader();\n",
              "      reader.onload = (e) => {\n",
              "        resolve(e.target.result);\n",
              "      };\n",
              "      reader.readAsArrayBuffer(file);\n",
              "    });\n",
              "    // Wait for the data to be ready.\n",
              "    let fileData = yield {\n",
              "      promise: fileDataPromise,\n",
              "      response: {\n",
              "        action: 'continue',\n",
              "      }\n",
              "    };\n",
              "\n",
              "    // Use a chunked sending to avoid message size limits. See b/62115660.\n",
              "    let position = 0;\n",
              "    do {\n",
              "      const length = Math.min(fileData.byteLength - position, MAX_PAYLOAD_SIZE);\n",
              "      const chunk = new Uint8Array(fileData, position, length);\n",
              "      position += length;\n",
              "\n",
              "      const base64 = btoa(String.fromCharCode.apply(null, chunk));\n",
              "      yield {\n",
              "        response: {\n",
              "          action: 'append',\n",
              "          file: file.name,\n",
              "          data: base64,\n",
              "        },\n",
              "      };\n",
              "\n",
              "      let percentDone = fileData.byteLength === 0 ?\n",
              "          100 :\n",
              "          Math.round((position / fileData.byteLength) * 100);\n",
              "      percent.textContent = `${percentDone}% done`;\n",
              "\n",
              "    } while (position < fileData.byteLength);\n",
              "  }\n",
              "\n",
              "  // All done.\n",
              "  yield {\n",
              "    response: {\n",
              "      action: 'complete',\n",
              "    }\n",
              "  };\n",
              "}\n",
              "\n",
              "scope.google = scope.google || {};\n",
              "scope.google.colab = scope.google.colab || {};\n",
              "scope.google.colab._files = {\n",
              "  _uploadFiles,\n",
              "  _uploadFilesContinue,\n",
              "};\n",
              "})(self);\n",
              "</script> "
            ]
          },
          "metadata": {}
        },
        {
          "output_type": "stream",
          "name": "stdout",
          "text": [
            "Saving img_1.jpg to img_1.jpg\n"
          ]
        }
      ]
    },
    {
      "cell_type": "code",
      "metadata": {
        "colab": {
          "base_uri": "https://localhost:8080/",
          "height": 406
        },
        "id": "oSkuNroPkq4s",
        "outputId": "89134678-f694-488c-e097-a80d8d0369e8"
      },
      "source": [
        "# Load library\n",
        "import cv2\n",
        "import numpy as np\n",
        "from matplotlib import pyplot as plt\n",
        "\n",
        "# Load image in color\n",
        "image_bgr = cv2.imread('img_1.jpg', cv2.IMREAD_COLOR)\n",
        "# Convert to RGB\n",
        "image_rgb = cv2.cvtColor(image_bgr, cv2.COLOR_BGR2RGB)\n",
        "\n",
        "# Show image\n",
        "plt.imshow(image_rgb), plt.axis(\"off\")\n",
        "plt.show()"
      ],
      "execution_count": 30,
      "outputs": [
        {
          "output_type": "display_data",
          "data": {
            "text/plain": [
              "<Figure size 640x480 with 1 Axes>"
            ],
            "image/png": "[encoded data removed]"
          },
          "metadata": {}
        }
      ]
    },
    {
      "cell_type": "code",
      "metadata": {
        "colab": {
          "base_uri": "https://localhost:8080/",
          "height": 406
        },
        "id": "8R1m4_A5ku07",
        "outputId": "e19f303e-1c1a-4bbb-e531-ae2c0f92d87a"
      },
      "source": [
        "# Load image as grayscale\n",
        "\n",
        "# Write the path to the image\n",
        "\n",
        "image = cv2.imread('img_1.jpg', cv2.IMREAD_GRAYSCALE)\n",
        "image_resized = cv2.resize(image, (28, 28)) \n",
        "# Show image\n",
        "plt.imshow(image_resized, cmap='gray'), plt.axis(\"off\")\n",
        "plt.show()"
      ],
      "execution_count": 31,
      "outputs": [
        {
          "output_type": "display_data",
          "data": {
            "text/plain": [
              "<Figure size 640x480 with 1 Axes>"
            ],
            "image/png": "[encoded data removed]"
          },
          "metadata": {}
        }
      ]
    },
    {
      "cell_type": "code",
      "metadata": {
        "colab": {
          "base_uri": "https://localhost:8080/"
        },
        "id": "dwW6ezeMkyYg",
        "outputId": "a9190161-0ddd-4aec-d19d-cf985ecfd23e"
      },
      "source": [
        "prediction = model.predict(image_resized.reshape(1,784))\n",
        "print('Prediction Score:\\n',prediction[0])\n",
        "thresholded = (prediction>0.5)*1\n",
        "print('\\nThresholded Score:\\n',thresholded[0])\n",
        "print('\\nPredicted Digit:',np.where(thresholded == 1)[1][0])"
      ],
      "execution_count": 32,
      "outputs": [
        {
          "output_type": "stream",
          "name": "stdout",
          "text": [
            "1/1 [==============================] - 0s 60ms/step\n",
            "Prediction Score:\n",
            " [4.6619317e-07 3.0146783e-05 9.9982554e-01 2.6065245e-05 6.4705256e-07\n",
            " 7.6013794e-06 5.6941011e-05 1.0916248e-06 5.1445892e-05 4.6097565e-10]\n",
            "\n",
            "Thresholded Score:\n",
            " [0 0 1 0 0 0 0 0 0 0]\n",
            "\n",
            "Predicted Digit: 2\n"
          ]
        }
      ]
    }
  ]
}